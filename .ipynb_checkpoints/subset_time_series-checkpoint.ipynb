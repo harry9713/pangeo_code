{
 "cells": [
  {
   "cell_type": "markdown",
   "id": "a9b0738d-f079-43f1-b04b-8cd4ee61ea3d",
   "metadata": {},
   "source": [
    "# Global Land-only time series analysis - Masking and subsetting"
   ]
  },
  {
   "cell_type": "code",
   "execution_count": null,
   "id": "958c1c39-4287-4381-a973-3620addf668b",
   "metadata": {},
   "outputs": [],
   "source": [
    "from matplotlib import pyplot as plt\n",
    "import xarray as xr\n",
    "import numpy as np\n",
    "import dask\n",
    "from dask.diagnostics import progress\n",
    "from tqdm.autonotebook import tqdm \n",
    "import intake\n",
    "import fsspec\n",
    "import seaborn as sns\n",
    "%matplotlib inline"
   ]
  },
  {
   "cell_type": "code",
   "execution_count": null,
   "id": "70763223-0c26-41b1-bf18-f10fdf9bef46",
   "metadata": {},
   "outputs": [],
   "source": [
    "col = intake.open_esm_datastore(\"https://storage.googleapis.com/cmip6/pangeo-cmip6.json\")\n",
    "\n",
    "# there is currently a significant amount of data for these runs\n",
    "expts_full = ['historical','ssp126', 'ssp245', 'ssp370', 'ssp585', 'piControl']\n",
    "\n",
    "query = dict(\n",
    "    experiment_id=expts_full,\n",
    "    table_id='Amon',                           \n",
    "    variable_id=['tas', 'pr', 'ua', 'va'],\n",
    "    member_id = 'r1i1p1f1',                     \n",
    ")\n",
    "\n",
    "col_subset = col.search(require_all_on=[\"source_id\"], **query)\n",
    "col_subset_var = [col_subset.search(variable_id=var_name) for var_name in query['variable_id']]\n",
    "#col_subset_tas = col_subset.search(variable_id='tas')\n",
    "#col_subset_pr = col_subset.search(variable_id='pr')\n",
    "\n",
    "col_subset.df.groupby(\"source_id\")[\n",
    "    [\"experiment_id\", \"variable_id\", \"table_id\"]\n",
    "].nunique()"
   ]
  },
  {
   "cell_type": "markdown",
   "id": "0783ff80-0db9-4a47-b4bd-86a4e372a7e1",
   "metadata": {},
   "source": [
    "## Sample Plotting"
   ]
  },
  {
   "cell_type": "code",
   "execution_count": null,
   "id": "9dc5f6ee-2b1c-4cce-a3b5-18d746b7c7f4",
   "metadata": {},
   "outputs": [],
   "source": [
    "dset_dict = col_subset_var[0].to_dataset_dict(\n",
    "    zarr_kwargs={\"consolidated\": True, \"decode_times\": True, \"use_cftime\": True}\n",
    ")\n",
    "ss = [key for key in dset_dict.keys() if 'historical' in key]\n",
    "ds = dset_dict[ss[15]]"
   ]
  },
  {
   "cell_type": "code",
   "execution_count": null,
   "id": "93e95dbd-6f3b-46f6-a326-49f5d944795b",
   "metadata": {},
   "outputs": [],
   "source": [
    "ss[15]"
   ]
  },
  {
   "cell_type": "code",
   "execution_count": null,
   "id": "ec9eea1d-9e23-4dbc-8b0b-eb7c636a5af2",
   "metadata": {},
   "outputs": [],
   "source": [
    "ds.tas.isel(member_id=0, time=[0,1,2]).plot(col=\"time\", col_wrap=3,robust=True)\n"
   ]
  },
  {
   "cell_type": "markdown",
   "id": "5a7cc2ba-961d-44b2-9dbc-0163b78600bf",
   "metadata": {},
   "source": [
    "# $\\textbf{Preparing data}$"
   ]
  },
  {
   "cell_type": "code",
   "execution_count": null,
   "id": "591b9ac4-2c33-449f-b3b6-bf1274598e2a",
   "metadata": {},
   "outputs": [],
   "source": [
    "def drop_all_bounds(ds):\n",
    "    drop_vars = [vname for vname in ds.coords\n",
    "                 if (('_bounds') in vname ) or ('_bnds') in vname]\n",
    "    return ds.drop(drop_vars)\n",
    "\n",
    "def open_dset(df):\n",
    "    assert len(df) == 1\n",
    "    ds = xr.open_zarr(fsspec.get_mapper(df.zstore.values[0]), consolidated=True, use_cftime=True, decode_times=True)\n",
    "    return drop_all_bounds(ds)\n",
    "\n",
    "def open_delayed(df):\n",
    "    return dask.delayed(open_dset)(df)\n",
    "\n",
    "from collections import defaultdict\n",
    "dsets = []\n",
    "for col_subset in col_subset_var :\n",
    "    dset = defaultdict(dict)\n",
    "\n",
    "    for group, df in col_subset.df.groupby(by=['source_id', 'experiment_id']):\n",
    "        dset[group[0]][group[1]] = open_delayed(df)\n",
    "    dsets.append(dset)"
   ]
  },
  {
   "cell_type": "code",
   "execution_count": null,
   "id": "ab1f86fc-83d3-48b8-b3da-66078154063b",
   "metadata": {},
   "outputs": [],
   "source": [
    "dsets_ = [dask.compute(dict(dset))[0]for dset in dsets]"
   ]
  },
  {
   "cell_type": "code",
   "execution_count": null,
   "id": "5c0a3191-facd-4898-b4a6-a0d37e836481",
   "metadata": {},
   "outputs": [],
   "source": [
    "import esmvalcore.preprocessor as ecpr\n",
    "import cartopy.crs as ccrs\n",
    "import cartopy.feature as feature\n",
    "from cartopy.mpl.gridliner import LATITUDE_FORMATTER, LONGITUDE_FORMATTER\n",
    "import xesmf as xe\n",
    "\n",
    "#########################################################\n",
    "ds = dset_dict[ss[15]]\n",
    "drop_vars = [vname for vname in ds.coords\n",
    "                 if (('_bounds') in vname ) or ('_bnds') in vname]\n",
    "\n",
    "ds = ds.drop(drop_vars)\n",
    "ds_cube = ds.tas.isel(member_id=0, time=0).to_iris()\n",
    "ds_cube = ecpr.regrid(ds_cube, '1x1', scheme='linear')\n",
    "ds_masked = ecpr.mask_landsea(ds_cube, mask_out='sea')\n",
    "ds_masked = xr.DataArray.from_iris(ds_masked)\n",
    "ds_masked = ds_masked.squeeze()\n",
    "ds_masked_og = ds_masked.sel({'lat':slice(0,40), 'lon':slice(60, 100)})\n",
    "\n",
    "####################### Indian Region Masking ###########\n",
    "mask_ds = xr.open_dataset('/home/jovyan/pangeo/data/India_mask.nc')\n",
    "\n",
    "mask_reg = xr.Dataset({\"lat\": ([\"lat\"], ds_masked_og.lat.values),\n",
    "                     \"lon\": ([\"lon\"], ds_masked_og.lon.values),})\n",
    "\n",
    "regridder = xe.Regridder(mask_ds, mask_reg, \"bilinear\")\n",
    "mask_reg = regridder(mask_ds)\n",
    "\n",
    "\n",
    "ds_masked = xr.where(mask_reg.mask==1, ds_masked_og, np.nan)\n",
    "####################################################\n",
    "data = [ds_masked_og, mask_ds.mask, mask_reg.mask, ds_masked]\n",
    "t = ['model data', 'Mask (25km)', 'regridded mask', 'masked data']\n",
    "fig, axs = plt.subplots(2, 2, subplot_kw={'projection':ccrs.PlateCarree()}, figsize=(10,10), dpi=300)\n",
    "k= 0\n",
    "for i in range(2):\n",
    "    for j in range(2):\n",
    "        ax = axs[i,j]\n",
    "        gl =ax.gridlines(crs=ccrs.PlateCarree(), linewidth=2,\n",
    "                          color='grey', alpha=0.3, linestyle='-', \n",
    "                          draw_labels=True)\n",
    "        ax.coastlines()\n",
    "        gl.top_labels = False\n",
    "        gl.right_labels = False\n",
    "        gl.xformatter = LONGITUDE_FORMATTER\n",
    "        gl.yformatter = LATITUDE_FORMATTER\n",
    "        X,Y = np.meshgrid(ds_masked.lon, ds_masked.lat)\n",
    "        x,y = np.meshgrid(mask_ds.lon, mask_ds.lat)\n",
    "        try:\n",
    "            ax.contourf(X, Y, data[k], transform=ccrs.PlateCarree())\n",
    "        except:\n",
    "            ax.contourf(x, y, data[k], transform=ccrs.PlateCarree())\n",
    "        ax.set_extent([66,100, 7, 38])\n",
    "        ax.set_title(t[k])\n",
    "        print(k)\n",
    "        k += 1\n",
    "plt.savefig('/home/jovyan/pangeo/plot/masking_ind.png', bbox_inches='tight', facecolor='white', dpi=500)"
   ]
  },
  {
   "cell_type": "code",
   "execution_count": null,
   "id": "a36af371-cff0-4c33-a85a-f2ec064c489b",
   "metadata": {},
   "outputs": [],
   "source": [
    "ds_masked.plot()\n",
    "mask_reg.mask.plot()"
   ]
  },
  {
   "cell_type": "code",
   "execution_count": null,
   "id": "16c62d80-f4cd-48db-abc0-4950e7465db4",
   "metadata": {},
   "outputs": [],
   "source": [
    "ds.tas.isel(member_id=0,time=0).plot(col_wrap=1,robust=True)"
   ]
  },
  {
   "cell_type": "code",
   "execution_count": null,
   "id": "686faf6e-b2bf-4370-8a11-53649da7e9c4",
   "metadata": {},
   "outputs": [],
   "source": [
    "import esmvalcore.preprocessor as ecpr\n",
    "\n",
    "def get_lat_name(ds):\n",
    "    for lat_name in ['lat', 'latitude']:\n",
    "        if lat_name in ds.coords:\n",
    "            return lat_name\n",
    "    raise RuntimeError(\"Couldn't find a latitude coordinate\")\n",
    "\n",
    "def get_vname(ds):\n",
    "    for vname in ['tas', 'pr', 'ua', 'va']:\n",
    "        if vname in ds.variables.keys():\n",
    "            return vname\n",
    "    raise RuntimeError(\"Couldn't find a variable name\")\n",
    "\n",
    "def global_mean(ds):\n",
    "    lat = ds[get_lat_name(ds)]\n",
    "    weight = np.cos(np.deg2rad(lat))\n",
    "    weight /= weight.mean()\n",
    "    other_dims = set(ds.dims) - {'year'}\n",
    "    return (ds * weight).mean(other_dims)\n",
    " \n",
    "def regrid(ds):\n",
    "    #print(ds)\n",
    "    var_name = get_vname(ds)\n",
    "    ds_reg = ds[var_name].to_iris()\n",
    "    ds_reg = xr.DataArray.from_iris(ecpr.regrid(ds_reg, '1x1', 'linear')).to_dataset(name=var_name)\n",
    "    #print(ds_reg)\n",
    "    return ds_reg\n",
    "\n",
    "def mask_out(ds):\n",
    "    var = [i for i in ds.variables.keys()][-1]\n",
    "    #print(var)\n",
    "    try:\n",
    "        dset_masked = ds.swap_dims({'time': 'year'}).drop('time')\n",
    "    except:\n",
    "        dset_masked = ds.swap_dims({'dim_0': 'year'}).drop('time')\n",
    "    dset_masked = dset_masked[var].to_iris()\n",
    "    dset_masked = xr.DataArray.from_iris(ecpr.mask_landsea(dset_masked, mask_out='sea')).rename({'dim_0':'year'}).to_dataset()\n",
    "    return dset_masked\n"
   ]
  },
  {
   "cell_type": "code",
   "execution_count": null,
   "id": "b201a528-d49f-4173-a643-f2aebc4547dd",
   "metadata": {},
   "outputs": [],
   "source": [
    "from toolz.functoolz import juxt\n",
    "expts = expts_full[:-1]\n",
    "expt_da = xr.DataArray(expts, dims='experiment_id', name='experiment_id',\n",
    "                       coords={'experiment_id': expts})\n",
    "\n",
    "\n",
    "dsets_aligned_list = []\n",
    "for dset_ in dsets_[:2]:\n",
    "    j=0\n",
    "    dsets_aligned = {}\n",
    "    for k, v in tqdm(dset_.items()):\n",
    "        \n",
    "        expt_dsets = v.values()\n",
    "        if any([d is None for d in expt_dsets]):\n",
    "            print(f\"Missing experiment for {k}\")\n",
    "            continue\n",
    "\n",
    "        for ds in expt_dsets:\n",
    "            ds.coords['year'] = ds.time.dt.year\n",
    "            #print(ds)\n",
    "        \n",
    "        # workaround for\n",
    "        # https://github.com/pydata/xarray/issues/2237#issuecomment-620961663\n",
    "        dsets_ann_mean = [v[expt].pipe(regrid).pipe(mask_out).pipe(global_mean).coarsen(year=12).mean() for expt in expts]\n",
    "        \n",
    "        # align everything with the 4xCO2 experiment\n",
    "        dsets_aligned[k] = xr.concat(dsets_ann_mean, join='outer',\n",
    "                                    dim=expt_da)\n",
    "    \n",
    "#    print(dsets_aligned)\n",
    "    #j += 1\n",
    "    dsets_aligned_list.append(dsets_aligned)\n",
    "#dsets_aligned_list[0]"
   ]
  },
  {
   "cell_type": "code",
   "execution_count": null,
   "id": "7291749a-5088-4cf7-8e72-07c930185db7",
   "metadata": {},
   "outputs": [],
   "source": [
    " with progress.ProgressBar():\n",
    "    dsets_aligned_list_1 = dask.compute(dsets_aligned_list[0])[0]\n",
    "        \n",
    "with progress.ProgressBar():\n",
    "    dsets_aligned_list_2 = dask.compute(dsets_aligned_list[1])[0]"
   ]
  },
  {
   "cell_type": "code",
   "execution_count": null,
   "id": "5aed13a6-052c-4e5e-98b1-ee7a8c7795a8",
   "metadata": {},
   "outputs": [],
   "source": [
    "dsets_algned_list_ = [dsets_aligned_list_1, dsets_aligned_list_2]\n",
    "type(dsets_algned_list_[0])"
   ]
  },
  {
   "cell_type": "code",
   "execution_count": null,
   "id": "d70c9f4f-89bc-4a44-a64a-47212843e4c7",
   "metadata": {},
   "outputs": [],
   "source": [
    "#from google.colab import files\n",
    "\n",
    "source_ids = [list(dsets_aligned_.keys()) for dsets_aligned_ in dsets_algned_list_]\n",
    "#source_da = xr.DataArray(source_ids, dims='source_id', name='source_id',\n",
    "#                         coords={'source_id': source_ids})\n",
    "big_ds = []\n",
    "for idx, dsets_aligned_ in enumerate(dsets_algned_list_):\n",
    "    source_da = xr.DataArray(source_ids[idx], dims='source_id', name='source_id',\n",
    "                         coords={'source_id': source_ids[idx]})\n",
    "    big_ds.append(xr.concat([ds.reset_coords(drop=True)\n",
    "                        for ds in dsets_aligned_.values()],\n",
    "                        dim=source_da))\n",
    "\n",
    "#big_ds.to_netcdf('tas_pr_land_only_timeseries.nc')\n",
    "#files.download('big_ds_tas.nc',)"
   ]
  },
  {
   "cell_type": "code",
   "execution_count": null,
   "id": "06994fcc-49c9-425a-bf38-0bc49a68ed32",
   "metadata": {},
   "outputs": [],
   "source": [
    "#big_ds = xr.open_dataset('big_ds_pr.nc')\n",
    "ds_all = big_ds[0].assign(pr=big_ds[1].pr)\n",
    "ds_all.to_netcdf('/home/jovyan/pangeo/data/tas_pr_landonly_timeseries.nc')\n",
    "ds_all"
   ]
  },
  {
   "cell_type": "code",
   "execution_count": null,
   "id": "519cf008-2605-4dc3-bf24-9a23012f2c71",
   "metadata": {},
   "outputs": [],
   "source": [
    "ds_all = xr.open_dataset('/home/jovyan/pangeo/data/tas_pr_landonly_timeseries.nc')\n",
    "small_ds = ds_all.sel(year=slice(1950,2100)).rolling(year=2).mean()\n",
    "small_ds.source_id.shape"
   ]
  },
  {
   "cell_type": "code",
   "execution_count": null,
   "id": "f730cc10-8f9d-4545-ba99-489f95e74487",
   "metadata": {
    "tags": []
   },
   "outputs": [],
   "source": [
    "cl_t0, cl_tf = 1984, 2014\n",
    "clim_ds = small_ds.sel(experiment_id='historical', year=slice(cl_t0, cl_tf)).mean(dim=('year')) \n",
    "\n",
    "dev_ds_pr = ((small_ds.pr - clim_ds.pr)/clim_ds.pr)*100 \n",
    "dev_ds_tas = small_ds.tas - clim_ds.tas"
   ]
  },
  {
   "cell_type": "code",
   "execution_count": null,
   "id": "1cfa5f80-4f29-4280-8032-a7448682fd09",
   "metadata": {
    "tags": []
   },
   "outputs": [],
   "source": [
    "ens_ds_pr = dev_ds_pr.mean(dim='source_id')\n",
    "print(ens_ds_pr.shape)\n",
    "\n",
    "ens_ds_tas = dev_ds_tas.mean(dim='source_id')\n",
    "ens_ds_tas.shape"
   ]
  },
  {
   "cell_type": "code",
   "execution_count": null,
   "id": "2a758be4-14d9-49e6-b64f-d360f603eea2",
   "metadata": {},
   "outputs": [],
   "source": [
    "import itertools as it\n",
    "spread_max_pr = np.empty(shape=(5, 151))\n",
    "spread_min_pr = np.empty(shape=(5, 151))\n",
    "\n",
    "spread_max_tas = np.empty(shape=(5, 151))\n",
    "spread_min_tas = np.empty(shape=(5, 151))\n",
    "\n",
    "for i,j in it.product(range(5), range(151)):  ##instead of nested for loops. works same.\n",
    "    spread_max_pr[i, j] = np.nanmax(dev_ds_pr[:, i, j]-ens_ds_pr[i, j])\n",
    "    spread_min_pr[i, j] = np.nanmin(dev_ds_pr[:, i, j]-ens_ds_pr[i, j])\n",
    "    \n",
    "    spread_max_tas[i, j] = np.nanmax(dev_ds_tas[:, i, j]-ens_ds_tas[i, j])\n",
    "    spread_min_tas[i, j] = np.nanmin(dev_ds_tas[:, i, j]-ens_ds_tas[i, j])\n",
    "\n",
    "spread_tas ={'max_vals' : spread_max_tas, \n",
    "             'min_vals' : spread_min_tas}\n",
    "\n",
    "spread_pr ={'max_vals' : spread_max_pr, \n",
    "             'min_vals' : spread_min_pr}\n",
    "\n",
    "spr = [spread_tas, spread_pr]"
   ]
  },
  {
   "cell_type": "code",
   "execution_count": null,
   "id": "0e3cc842-4ccb-4eca-a479-ff7ae57b9136",
   "metadata": {},
   "outputs": [],
   "source": [
    "from matplotlib import cm\n",
    "import matplotlib.colors as mcl\n",
    "cmap = cm.turbo\n",
    "cl = ['k']+[mcl.rgb2hex(cmap(i)[:3]) for i in range(0,cmap.N,70)]\n",
    "cl = ['k'] + ['blue', 'orange', 'green','red']\n",
    "\n",
    "ncols, nrows=2,2\n",
    "fig, axs = plt.subplots(nrows, ncols, dpi=600, figsize = (14,9))\n",
    "ens_dss = [ens_ds_tas, ens_ds_pr]\n",
    "\n",
    "y_l = [f'Relative to {cl_t0}-{cl_tf} ($\\circ$C)', \n",
    "       f'Relative to {cl_t0}-{cl_tf} (%)']\n",
    "\n",
    "\n",
    "for i in range(nrows):\n",
    "    for j in range(ncols):\n",
    "        ax = axs[i, j]\n",
    "        ens_ds = ens_dss[j]\n",
    "        if i==0:\n",
    "            for idx,v in enumerate(ens_ds.experiment_id):\n",
    "                len(ens_ds.year)\n",
    "                ax.plot(ens_ds.year, ens_ds[ens_ds['experiment_id']==v.values].squeeze(), label = v.values, c=cl[idx])\n",
    "                ax.fill_between(ens_ds.year, ens_ds[ens_ds['experiment_id']==v.values].squeeze()+spr[j]['max_vals'][idx,:], \n",
    "                                 ens_ds[ens_ds['experiment_id']==v.values].squeeze()+spr[j]['min_vals'][idx, :], alpha=0.2, color=cl[idx] )\n",
    "                ax.set_xlim(1955,2100)\n",
    "        else:\n",
    "            for idx,v in enumerate(ens_ds.experiment_id[1:]):\n",
    "                ax.plot(ens_ds.year, ens_ds[ens_ds['experiment_id']==v.values].squeeze(), label=v.values, c=cl[idx+1])\n",
    "                ax.set_xlim(2020,2100)\n",
    "        ax.set_xlabel('Year')\n",
    "        ax.set_ylabel(y_l[j])\n",
    "        ax.legend(loc='upper left')\n",
    "        ax.grid(alpha=0.3)\n",
    "\n",
    "fig.suptitle('CMIP6 Global mean (Land-only) T$_s$ and P', x=0.5, y =0.95, fontsize=28, weight='bold')\n",
    "plt.savefig('/home/jovyan/pangeo/plot/tas_pr_landonly_timeseries.png', bbox_inches='tight', facecolor='white')"
   ]
  },
  {
   "cell_type": "markdown",
   "id": "7ef4a51c-e2ff-4044-8f53-d37c4e0619b4",
   "metadata": {},
   "source": [
    "# Indian region masking and visualization"
   ]
  },
  {
   "cell_type": "code",
   "execution_count": null,
   "id": "ffb876ce-0dd4-4809-a31b-4d7dc7188116",
   "metadata": {},
   "outputs": [],
   "source": [
    "def get_lat_name(ds):\n",
    "    for lat_name in ['lat', 'latitude']:\n",
    "        if lat_name in ds.coords:\n",
    "            return lat_name\n",
    "    raise RuntimeError(\"Couldn't find a latitude coordinate\")\n",
    "\n",
    "def get_lon_name(ds):\n",
    "    for lon_name in ['lon', 'longitude']:\n",
    "        if lon_name in ds.coords:\n",
    "            return lon_name\n",
    "    raise RuntimeError(\"Couldn't find a longitude coordinate\")\n",
    "    \n",
    "def get_vname(ds):\n",
    "    for vname in ['tas', 'pr', 'ua', 'va']:\n",
    "        if lon_name in ds.coords:\n",
    "            return vname\n",
    "    raise RuntimeError(\"Couldn't find a variable name\")"
   ]
  },
  {
   "cell_type": "code",
   "execution_count": null,
   "id": "a53538ad-029a-4af8-a46c-7b1f1fb8ac7e",
   "metadata": {},
   "outputs": [],
   "source": [
    "import xesmf as xe\n",
    "mask_ds = xr.open_dataset('/home/jovyan/pangeo/data/India_mask.nc')\n",
    "\n",
    "def regrid(ds):\n",
    "    #print(ds)\n",
    "    var_name = get_vname(ds)\n",
    "    ds_reg = ds[var_name].to_iris()\n",
    "    ds_reg = xr.DataArray.from_iris(ecpr.regrid(ds_reg, '1x1', 'linear')).to_dataset(name=var_name)\n",
    "    return ds_reg\n",
    "\n",
    "def mask_out_india(ds):\n",
    "    var = [i for i in ds.variables.keys()][-3]\n",
    "    #print(var)\n",
    "    dset_masked = ds.swap_dims({'time': 'year'}).drop('time')\n",
    "    lat_var = get_lat_name(ds)\n",
    "    lon_var = get_lon_name(ds)\n",
    "    dset_masked = dset_masked.sel({lat_var:slice(6.5,38.5), lon_var:slice(66.5, 100.0)})\n",
    "    mask_reg = xr.Dataset({\"lat\": ([\"lat\"], dset_masked[lat_var].values),\n",
    "                         \"lon\": ([\"lon\"], dset_masked[lon_var].values),})\n",
    "\n",
    "    regridder = xe.Regridder(mask_ds, mask_reg, \"bilinear\")\n",
    "    mask_reg = regridder(mask_ds)\n",
    "    dset_masked = xr.where(mask_reg.mask==1, dset_masked[var], np.nan)\n",
    "    #print(dset_masked.dims)\n",
    "    dset_masked_cropped = dset_masked.sel({lon_var:slice(70,90), lat_var:slice(5,28)})\n",
    "    return dset_masked_cropped\n",
    "\n",
    "def global_mean(ds):\n",
    "    lat = ds[get_lat_name(ds)]\n",
    "    weight = np.cos(np.deg2rad(lat))\n",
    "    weight /= weight.mean()\n",
    "    other_dims = set(ds.dims) - {'year'}\n",
    "    return (ds * weight).mean(other_dims)"
   ]
  },
  {
   "cell_type": "code",
   "execution_count": null,
   "id": "799e4e97-5147-4289-af7b-433215064136",
   "metadata": {},
   "outputs": [],
   "source": [
    "from toolz.functoolz import juxt\n",
    "expts = expts_full[:-1]\n",
    "expt_da = xr.DataArray(expts, dims='experiment_id', name='experiment_id',\n",
    "                       coords={'experiment_id': expts})\n",
    "\n",
    "\n",
    "dsets_aligned_list = []\n",
    "for dset_ in dsets_[:2]:\n",
    "    j=0\n",
    "    dsets_aligned = {}\n",
    "    for k, v in tqdm(dset_.items()):\n",
    "        \n",
    "        expt_dsets = v.values()\n",
    "        if any([d is None for d in expt_dsets]):\n",
    "            print(f\"Missing experiment for {k}\")\n",
    "            continue\n",
    "    \n",
    "        for ds in expt_dsets:\n",
    "            ds.coords['year'] = ds.time.dt.year\n",
    "        # workaround for\n",
    "        # https://github.com/pydata/xarray/issues/2237#issuecomment-620961663\n",
    "        dsets_ann_mean = [v[expt].pipe(mask_out_india).pipe(global_mean).coarsen(year=12).mean() for expt in expts]\n",
    "                       \n",
    "        \n",
    "        # align everything with the 4xCO2 experiment\n",
    "\n",
    "        dsets_aligned[k] = xr.concat(dsets_ann_mean, join='outer',\n",
    "                                    dim=expt_da)\n",
    "    \n",
    "#    print(dsets_aligned)\n",
    "    #j += 1\n",
    "    dsets_aligned_list.append(dsets_aligned)\n",
    "#dsets_aligned_list[0]"
   ]
  },
  {
   "cell_type": "code",
   "execution_count": null,
   "id": "ce80365d-8272-4d90-b3b7-9245aa68df43",
   "metadata": {},
   "outputs": [],
   "source": [
    " with progress.ProgressBar():\n",
    "    dsets_aligned_list_1 = dask.compute(dsets_aligned_list[0])[0]\n",
    "        \n",
    "with progress.ProgressBar():\n",
    "    dsets_aligned_list_2 = dask.compute(dsets_aligned_list[1])[0]"
   ]
  },
  {
   "cell_type": "code",
   "execution_count": null,
   "id": "ab9f44e7-62c6-4d3a-a238-a11ae904a4fc",
   "metadata": {},
   "outputs": [],
   "source": [
    "dsets_aligned_list_ = [dsets_aligned_list_1, dsets_aligned_list_2]"
   ]
  },
  {
   "cell_type": "code",
   "execution_count": null,
   "id": "884d24d3-9513-4e42-8bcf-207895528028",
   "metadata": {},
   "outputs": [],
   "source": [
    "source_ids = [list(dsets_aligned_.keys()) for dsets_aligned_ in dsets_aligned_list_]\n",
    "#source_da = xr.DataArray(source_ids, dims='source_id', name='source_id',\n",
    "#                         coords={'source_id': source_ids})\n",
    "big_ds = []\n",
    "for idx, dsets_aligned_ in enumerate(dsets_aligned_list_):\n",
    "    source_da = xr.DataArray(source_ids[idx], dims='source_id', name='source_id',\n",
    "                         coords={'source_id': source_ids[idx]})\n",
    "    big_ds.append(xr.concat([ds.reset_coords(drop=True)\n",
    "                        for ds in dsets_aligned_.values()],\n",
    "                        dim=source_da))"
   ]
  },
  {
   "cell_type": "code",
   "execution_count": null,
   "id": "e86217cd-0a75-4e86-b17d-72f4de06f6f6",
   "metadata": {},
   "outputs": [],
   "source": [
    "ds_tas = big_ds[0].to_dataset(name='tas')\n",
    "ds_pr = big_ds[1].to_dataset(name='pr')\n"
   ]
  },
  {
   "cell_type": "code",
   "execution_count": null,
   "id": "f59c132f-851c-4f83-8dbf-168c660b517b",
   "metadata": {},
   "outputs": [],
   "source": [
    "ds_all = xr.merge([ds_tas, ds_pr])\n",
    "ds_all.to_netcdf('/home/jovyan/pangeo/data/tas_pr_indianreg_timeseries.nc')\n",
    "ds_all"
   ]
  },
  {
   "cell_type": "code",
   "execution_count": null,
   "id": "08eac429-3907-4855-8eb3-c3f9270f4c29",
   "metadata": {},
   "outputs": [],
   "source": [
    "ds_all = xr.open_dataset('/home/jovyan/pangeo/data/tas_pr_indianreg_timeseries.nc')\n",
    "small_ds = ds_all.sel(year=slice(1950,2100)).rolling(year=2).mean()"
   ]
  },
  {
   "cell_type": "code",
   "execution_count": null,
   "id": "75e887e4-9486-4c83-b43e-228b830d0855",
   "metadata": {},
   "outputs": [],
   "source": [
    "cl_t0, cl_tf = 1984, 2014\n",
    "clim_ds = small_ds.sel(experiment_id='historical', year=slice(cl_t0, cl_tf)).mean(dim=('year')) \n",
    "\n",
    "dev_ds_pr = ((small_ds.pr - clim_ds.pr)/clim_ds.pr)*100 \n",
    "dev_ds_tas = small_ds.tas - clim_ds.tas"
   ]
  },
  {
   "cell_type": "code",
   "execution_count": null,
   "id": "80f8fe39-b943-4e18-ac39-0877493a5cf5",
   "metadata": {},
   "outputs": [],
   "source": [
    "ens_ds_pr = dev_ds_pr.mean(dim='source_id')\n",
    "print(ens_ds_pr.shape)\n",
    "\n",
    "ens_ds_tas = dev_ds_tas.mean(dim='source_id')\n",
    "ens_ds_tas.shape"
   ]
  },
  {
   "cell_type": "code",
   "execution_count": null,
   "id": "9742e706-8bbd-432c-8d44-3be8e8f65cdb",
   "metadata": {},
   "outputs": [],
   "source": [
    "import itertools as it\n",
    "spread_max_pr = np.empty(shape=(5, 151))\n",
    "spread_min_pr = np.empty(shape=(5, 151))\n",
    "\n",
    "spread_max_tas = np.empty(shape=(5, 151))\n",
    "spread_min_tas = np.empty(shape=(5, 151))\n",
    "\n",
    "for i,j in it.product(range(5), range(151)):  ##instead of nested for loops. works same.\n",
    "    spread_max_pr[i, j] = np.nanmax(dev_ds_pr[:, i, j]-ens_ds_pr[i, j])\n",
    "    spread_min_pr[i, j] = np.nanmin(dev_ds_pr[:, i, j]-ens_ds_pr[i, j])\n",
    "    \n",
    "    spread_max_tas[i, j] = np.nanmax(dev_ds_tas[:, i, j]-ens_ds_tas[i, j])\n",
    "    spread_min_tas[i, j] = np.nanmin(dev_ds_tas[:, i, j]-ens_ds_tas[i, j])\n",
    "\n",
    "spread_tas ={'max_vals' : spread_max_tas, \n",
    "             'min_vals' : spread_min_tas}\n",
    "\n",
    "spread_pr ={'max_vals' : spread_max_pr, \n",
    "             'min_vals' : spread_min_pr}\n",
    "\n",
    "spr = [spread_tas, spread_pr]"
   ]
  },
  {
   "cell_type": "code",
   "execution_count": null,
   "id": "19e61838-ce34-41ae-8c78-b81e3538eb63",
   "metadata": {},
   "outputs": [],
   "source": [
    "from matplotlib import cm\n",
    "import matplotlib.colors as mcl\n",
    "cmap = cm.turbo\n",
    "cl = ['k']+[mcl.rgb2hex(cmap(i)[:3]) for i in range(0,cmap.N,70)]\n",
    "cl = ['k'] + ['blue', 'orange', 'green','red']\n",
    "\n",
    "ncols, nrows=2,2\n",
    "fig, axs = plt.subplots(nrows, ncols, dpi=600, figsize = (14,9))\n",
    "ens_dss = [ens_ds_tas, ens_ds_pr]\n",
    "\n",
    "y_l = [f'Relative to {cl_t0}-{cl_tf} ($\\circ$C)', \n",
    "       f'Relative to {cl_t0}-{cl_tf} (%)']\n",
    "\n",
    "\n",
    "for i in range(nrows):\n",
    "    for j in range(ncols):\n",
    "        ax = axs[i, j]\n",
    "        ens_ds = ens_dss[j]\n",
    "        if i==0:\n",
    "            for idx,v in enumerate(ens_ds.experiment_id):\n",
    "                len(ens_ds.year)\n",
    "                ax.plot(ens_ds.year, ens_ds[ens_ds['experiment_id']==v.values].squeeze(), label = v.values, c=cl[idx])\n",
    "                ax.fill_between(ens_ds.year, ens_ds[ens_ds['experiment_id']==v.values].squeeze()+spr[j]['max_vals'][idx,:], \n",
    "                                 ens_ds[ens_ds['experiment_id']==v.values].squeeze()+spr[j]['min_vals'][idx, :], alpha=0.2, color=cl[idx] )\n",
    "                ax.set_xlim(1955,2100)\n",
    "        else:\n",
    "            for idx,v in enumerate(ens_ds.experiment_id[1:]):\n",
    "                ax.plot(ens_ds.year, ens_ds[ens_ds['experiment_id']==v.values].squeeze(), label=v.values, c=cl[idx+1])\n",
    "                ax.set_xlim(2020,2100)\n",
    "        ax.set_xlabel('Year')\n",
    "        ax.set_ylabel(y_l[j])\n",
    "        ax.legend(loc='upper left')\n",
    "        ax.grid(alpha=0.3)\n",
    "\n",
    "fig.suptitle('CMIP6 Global mean (Indian region) T$_s$ and P', x=0.5, y =0.95, fontsize=28, weight='bold')\n",
    "plt.savefig('/home/jovyan/pangeo/plot/tas_pr_indianreg_timeseries.png', bbox_inches='tight', facecolor='white')"
   ]
  },
  {
   "cell_type": "code",
   "execution_count": null,
   "id": "2dec14f9-2c84-467c-af41-47f8bf7d655a",
   "metadata": {},
   "outputs": [],
   "source": []
  }
 ],
 "metadata": {
  "kernelspec": {
   "display_name": "Python 3 (ipykernel)",
   "language": "python",
   "name": "python3"
  },
  "language_info": {
   "codemirror_mode": {
    "name": "ipython",
    "version": 3
   },
   "file_extension": ".py",
   "mimetype": "text/x-python",
   "name": "python",
   "nbconvert_exporter": "python",
   "pygments_lexer": "ipython3",
   "version": "3.9.10"
  }
 },
 "nbformat": 4,
 "nbformat_minor": 5
}

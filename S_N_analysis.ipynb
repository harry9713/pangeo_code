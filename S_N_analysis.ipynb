{
 "cells": [
  {
   "cell_type": "markdown",
   "id": "e4e454f8-35f0-4416-a85c-5cd41fe3a9a7",
   "metadata": {},
   "source": [
    "# Future scenario S/N ratio analysis"
   ]
  },
  {
   "cell_type": "code",
   "execution_count": null,
   "id": "064732b9-05db-4c2a-8678-6ef2bed44682",
   "metadata": {},
   "outputs": [],
   "source": [
    "!mamba install -y --file /home/jovyan/pangeo/code/requirements.txt"
   ]
  },
  {
   "cell_type": "code",
   "execution_count": null,
   "id": "ae5a270e-655b-4274-9977-31a17617ae0d",
   "metadata": {},
   "outputs": [],
   "source": [
    "from matplotlib import pyplot as plt\n",
    "import xarray as xr\n",
    "import numpy as np\n",
    "import dask\n",
    "from dask.diagnostics import progress\n",
    "from tqdm.autonotebook import tqdm \n",
    "import intake\n",
    "import fsspec\n",
    "import seaborn as sns\n",
    "#import esmvalcore.preprocessor as ecpr\n",
    "#import pymannkendall as mkt\n",
    "import pandas as pd\n",
    "\n",
    "%matplotlib inline"
   ]
  },
  {
   "cell_type": "code",
   "execution_count": null,
   "id": "f1ab6490-e7e5-429a-9cbe-459bcdf88c24",
   "metadata": {},
   "outputs": [],
   "source": []
  },
  {
   "cell_type": "code",
   "execution_count": null,
   "id": "74515a5e-e410-4018-9712-edf56bf7dea8",
   "metadata": {},
   "outputs": [],
   "source": [
    "col = intake.open_esm_datastore(\"https://storage.googleapis.com/cmip6/pangeo-cmip6.json\")\n",
    "col\n",
    "\n",
    "# there is currently a significant amount of data for these runs\n",
    "expts_full = ['historical','ssp126', 'ssp245', 'ssp370', 'ssp585', 'piControl']\n",
    "\n",
    "query = dict(\n",
    "    #activity_id = 'DAMIP',\n",
    "    experiment_id=expts_full,\n",
    "    table_id='Amon',                           \n",
    "    variable_id=['tas', 'pr', 'ua', 'va'],\n",
    "    member_id = 'r1i1p1f1',                     \n",
    ")\n",
    "\n",
    "col_subset = col.search(require_all_on='source_id', **query)\n",
    "#col_subset.df = col_subset.df[col_subset.df['source_id'] != 'FGOALS-f3-L']\n",
    "col_subset_var = [col_subset.search(variable_id=var_name) for var_name in query['variable_id']]\n",
    "print(f'Number of models found: {col_subset.df.source_id.nunique()}')"
   ]
  },
  {
   "cell_type": "code",
   "execution_count": null,
   "id": "12a801b5-76b7-4f5c-a841-9d47c6661fa9",
   "metadata": {},
   "outputs": [],
   "source": [
    "col_subset.df = col_subset.df[col_subset.df['source_id'] != 'FGOALS-f3-L']\n",
    "col_subset"
   ]
  },
  {
   "cell_type": "code",
   "execution_count": null,
   "id": "6234f0d1-5c8e-491a-9b4e-1e1cde85481c",
   "metadata": {},
   "outputs": [],
   "source": [
    "def drop_all_bounds(ds):\n",
    "    drop_vars = [vname for vname in ds.coords\n",
    "                 if (('_bounds') in vname ) or ('_bnds') in vname]\n",
    "    return ds.drop(drop_vars)\n",
    "\n",
    "def open_dset(df):\n",
    "    #assert len(df) == 1\n",
    "    ds = xr.open_zarr(fsspec.get_mapper(df.zstore.values[0]), consolidated=True, decode_times=True, use_cftime=True)\n",
    "    if 'plev' in ds.coords:\n",
    "        for lev in ds.plev.values:\n",
    "            if int(lev)==85000:\n",
    "                ind = np.where(ds.plev.values==lev)\n",
    "                break\n",
    "        ds = ds.isel(plev=ind[0]).drop('plev')\n",
    "        #ds.drop('plev')\n",
    "    return drop_all_bounds(ds)\n",
    "\n",
    "def open_delayed(df):\n",
    "    return dask.delayed(open_dset)(df)\n",
    "\n",
    "from collections import defaultdict\n",
    "dsets = []\n",
    "for col_subset in col_subset_var :\n",
    "    dset = defaultdict(dict)\n",
    "\n",
    "    for group, df in col_subset.df.groupby(by=['source_id', 'experiment_id']):\n",
    "        dset[group[0]][group[1]] = open_delayed(df)\n",
    "    dsets.append(dset)\n",
    "len(dsets)"
   ]
  },
  {
   "cell_type": "code",
   "execution_count": null,
   "id": "e104e35e-c9ef-49d3-bf90-4a481e510ad2",
   "metadata": {},
   "outputs": [],
   "source": [
    "with progress.ProgressBar():\n",
    "    dsets_ = dask.compute(dict(dsets[1]))[0]"
   ]
  },
  {
   "cell_type": "code",
   "execution_count": null,
   "id": "9fac7182-18f8-487a-a4e1-3acefaceb7b8",
   "metadata": {},
   "outputs": [],
   "source": [
    "dset_dict = col_subset_var[1].to_dataset_dict(\n",
    "    zarr_kwargs={\"consolidated\": True, \"decode_times\": True, \"use_cftime\": True}\n",
    ")"
   ]
  },
  {
   "cell_type": "code",
   "execution_count": null,
   "id": "76a8c092-8b16-478a-b263-035dd7188e43",
   "metadata": {},
   "outputs": [],
   "source": [
    "ss = [key for key in dset_dict.keys()]\n",
    "dset_dict[ss[10]]"
   ]
  },
  {
   "cell_type": "code",
   "execution_count": null,
   "id": "68d8b14a-46c3-496c-8c51-d7dba5204cdf",
   "metadata": {},
   "outputs": [],
   "source": []
  },
  {
   "cell_type": "code",
   "execution_count": null,
   "id": "4229f8da-81d0-4f54-9832-9862e8c3305a",
   "metadata": {},
   "outputs": [],
   "source": [
    "import pymannkendall as mkt\n",
    "import esmvalcore.preprocessor as ecpr\n",
    "import dask.array as da\n",
    "import iris\n",
    "import itertools\n",
    "import xesmf as xe\n",
    "def get_vname(ds):\n",
    "    #print(ds.variables)\n",
    "    for v_name in ds.variables.keys():\n",
    "        #print(v_name)\n",
    "        if v_name in ['pr', 'ua', 'va']:\n",
    "            return v_name\n",
    "    raise RuntimeError(\"Couldn't find a variable\")\n",
    "            \n",
    "def get_lat_name(ds):\n",
    "    for lat_name in ['lat', 'latitude']:\n",
    "        if lat_name in ds.coords:\n",
    "            return lat_name\n",
    "    raise RuntimeError(\"Couldn't find a latitude coordinate\")\n",
    "    \n",
    "def get_lon_name(ds):\n",
    "    for lon_name in ['lon', 'longitude']:\n",
    "        if lon_name in ds.coords:\n",
    "            return lon_name\n",
    "    raise RuntimeError(\"Couldn't find a longitude coordinate\")\n",
    "\n",
    "def regrid(ds):\n",
    "    var_name = get_vname(ds)\n",
    "    #print(var_name)\n",
    "    #ds = ds[var_name].to_iris()\n",
    "    #ds_reg = xr.DataArray.from_iris(ecpr.regrid(ds, '1x1', scheme='linear')).to_dataset(name=var_name)\n",
    "    \n",
    "    ds_out = xr.Dataset({\n",
    "        \"lat\": ([\"lat\"], np.arange(-90, 90, 1.0)),\n",
    "        \"lon\": ([\"lon\"], np.arange(-180, 180, 1.0)),\n",
    "    })\n",
    "    regridder = xe.Regridder(ds, ds_out, 'bilinear')\n",
    "    ds_reg = regridder(ds)#.to_dataset(name=var_name)\n",
    "    return ds_reg\n",
    "\n",
    "\n",
    "def jjas_mean(ds):\n",
    "    #print(ds)\n",
    "    var_name = get_vname(ds)\n",
    "    lat_name = get_lat_name(ds)\n",
    "    lon_name = get_lon_name(ds)\n",
    "    mind = ds.sel({lat_name:slice(-40, 40), lon_name:slice(5,120)}).groupby('time.month')\n",
    "    mind_sel = mind.groups[6] + mind.groups[7] + mind.groups[8] + mind.groups[9] \n",
    "    ds_sel = ds[var_name][mind_sel].groupby('time.year').mean().to_dataset(name=var_name)\n",
    "    return ds_sel"
   ]
  },
  {
   "cell_type": "code",
   "execution_count": null,
   "id": "6d7e0282-6b7d-43c2-9096-75896743a92e",
   "metadata": {},
   "outputs": [],
   "source": [
    "from toolz.functoolz import juxt\n",
    "\n",
    "expt_da = xr.DataArray(expts_full, dims='experiment_id', name='experiment_id',\n",
    "                       coords={'experiment_id': expts_full})\n",
    "\n",
    "dsets_aligned_list = []\n",
    "\n",
    "##selecting variable 'pr' only\n",
    "dset_= dsets_\n",
    "\n",
    "j=0\n",
    "dsets_aligned = {}\n",
    "for k, v in tqdm(dset_.items()):\n",
    "    print(k)\n",
    "    expt_dsets = v.values()\n",
    "    if any([d is None for d in expt_dsets]):\n",
    "        print(f\"Missing experiment for {k}\")\n",
    "        continue\n",
    "\n",
    "    # workaround for\n",
    "    # https://github.com/pydata/xarray/issues/2237#issuecomment-620961663\n",
    "    dsets_jjas_mean = []\n",
    "    for expt in expts_full:\n",
    "        ds = v[expt].pipe(regrid).pipe(jjas_mean)\n",
    "        if expt == 'historical':\n",
    "            ds = ds.sel(year=slice(1950,2014))\n",
    "        dsets_jjas_mean.append(ds)\n",
    "\n",
    "    # align everything with the 4xCO2 experiment\n",
    "\n",
    "    dsets_aligned[k] = xr.concat(dsets_jjas_mean, join='outer',\n",
    "                                dim=expt_da)\n",
    "dsets_aligned_list.append(dsets_aligned)"
   ]
  },
  {
   "cell_type": "code",
   "execution_count": null,
   "id": "261f8017-6b81-4d41-8cba-986551d5435a",
   "metadata": {},
   "outputs": [],
   "source": [
    "with progress.ProgressBar():\n",
    "    dsets_aligned_list_ = dask.compute(dsets_aligned_list[0])[0]"
   ]
  },
  {
   "cell_type": "code",
   "execution_count": null,
   "id": "e0f397d4-d6d9-4417-a2fd-27c6e2a8f078",
   "metadata": {},
   "outputs": [],
   "source": [
    "keys = [ k for k in dsets_aligned_list[0].keys()][:5]\n",
    "keys"
   ]
  },
  {
   "cell_type": "code",
   "execution_count": null,
   "id": "72b61d92-f264-4ea3-af29-52b8586c2987",
   "metadata": {},
   "outputs": [],
   "source": [
    "dsets_cr = dict(list(dsets_aligned_list[0].items())[:2])"
   ]
  },
  {
   "cell_type": "code",
   "execution_count": null,
   "id": "efae9199-af83-45a4-bf05-eafb903f7e28",
   "metadata": {},
   "outputs": [],
   "source": [
    "with progress.ProgressBar():\n",
    "    dsets_aligned_list_ = dask.compute(dsets_cr)[0]"
   ]
  },
  {
   "cell_type": "code",
   "execution_count": null,
   "id": "2512ef68-6406-4ac9-b9da-123b164693bf",
   "metadata": {},
   "outputs": [],
   "source": [
    "source_ids = list(dsets_aligned_list_.keys())\n",
    "source_ids"
   ]
  },
  {
   "cell_type": "code",
   "execution_count": null,
   "id": "cf5406fa-45a1-4c3c-9ea5-10e42fa3886a",
   "metadata": {},
   "outputs": [],
   "source": [
    "source_da = xr.DataArray(source_ids, dims='source_id', name='source_id',\n",
    "                         coords={'source_id': source_ids})\n",
    "big_ds = xr.concat([ds.reset_coords(drop=True)\n",
    "                    for ds in dsets_aligned_list_.values()],\n",
    "                    dim=source_da)"
   ]
  },
  {
   "cell_type": "code",
   "execution_count": null,
   "id": "13f7e73b-f604-44ea-aa18-be59b7e3a928",
   "metadata": {},
   "outputs": [],
   "source": []
  }
 ],
 "metadata": {
  "kernelspec": {
   "display_name": "Python 3 (ipykernel)",
   "language": "python",
   "name": "python3"
  },
  "language_info": {
   "codemirror_mode": {
    "name": "ipython",
    "version": 3
   },
   "file_extension": ".py",
   "mimetype": "text/x-python",
   "name": "python",
   "nbconvert_exporter": "python",
   "pygments_lexer": "ipython3",
   "version": "3.9.10"
  }
 },
 "nbformat": 4,
 "nbformat_minor": 5
}

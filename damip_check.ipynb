{
 "cells": [
  {
   "cell_type": "code",
   "execution_count": 1,
   "id": "31ac4424-13fb-4bae-9cde-c9974cfabc63",
   "metadata": {},
   "outputs": [
    {
     "name": "stderr",
     "output_type": "stream",
     "text": [
      "/tmp/ipykernel_1025/261797937.py:6: TqdmExperimentalWarning: Using `tqdm.autonotebook.tqdm` in notebook mode. Use `tqdm.tqdm` instead to force console mode (e.g. in jupyter console)\n",
      "  from tqdm.autonotebook import tqdm\n"
     ]
    }
   ],
   "source": [
    "from matplotlib import pyplot as plt\n",
    "import xarray as xr\n",
    "import numpy as np\n",
    "import dask\n",
    "from dask.diagnostics import progress\n",
    "from tqdm.autonotebook import tqdm \n",
    "import intake\n",
    "import fsspec\n",
    "import seaborn as sns\n",
    "#import esmvalcore.preprocessor as ecpr\n",
    "#import pymannkendall as mkt\n",
    "import pandas as pd\n",
    "\n",
    "%matplotlib inline"
   ]
  },
  {
   "cell_type": "code",
   "execution_count": 4,
   "id": "2b677ab3-cfba-4fd8-a8cc-440ce248f0b9",
   "metadata": {},
   "outputs": [
    {
     "name": "stderr",
     "output_type": "stream",
     "text": [
      "/srv/conda/envs/notebook/lib/python3.9/site-packages/intake_esm/search.py:103: UserWarning: Query returned zero results.\n",
      "  warn(message)\n"
     ]
    },
    {
     "data": {
      "text/html": [
       "<div>\n",
       "<style scoped>\n",
       "    .dataframe tbody tr th:only-of-type {\n",
       "        vertical-align: middle;\n",
       "    }\n",
       "\n",
       "    .dataframe tbody tr th {\n",
       "        vertical-align: top;\n",
       "    }\n",
       "\n",
       "    .dataframe thead th {\n",
       "        text-align: right;\n",
       "    }\n",
       "</style>\n",
       "<table border=\"1\" class=\"dataframe\">\n",
       "  <thead>\n",
       "    <tr style=\"text-align: right;\">\n",
       "      <th></th>\n",
       "      <th>activity_id</th>\n",
       "      <th>institution_id</th>\n",
       "      <th>source_id</th>\n",
       "      <th>experiment_id</th>\n",
       "      <th>member_id</th>\n",
       "      <th>table_id</th>\n",
       "      <th>variable_id</th>\n",
       "      <th>grid_label</th>\n",
       "      <th>zstore</th>\n",
       "      <th>dcpp_init_year</th>\n",
       "      <th>version</th>\n",
       "    </tr>\n",
       "  </thead>\n",
       "  <tbody>\n",
       "  </tbody>\n",
       "</table>\n",
       "</div>"
      ],
      "text/plain": [
       "Empty DataFrame\n",
       "Columns: [activity_id, institution_id, source_id, experiment_id, member_id, table_id, variable_id, grid_label, zstore, dcpp_init_year, version]\n",
       "Index: []"
      ]
     },
     "execution_count": 4,
     "metadata": {},
     "output_type": "execute_result"
    }
   ],
   "source": [
    "col = intake.open_esm_datastore(\"https://storage.googleapis.com/cmip6/pangeo-cmip6.json\")\n",
    "col\n",
    "\n",
    "# there is currently a significant amount of data for these runs\n",
    "expts_full = ['hist-aer', 'ssp245-aer']\n",
    "\n",
    "query = dict(\n",
    "    activity_id = 'DAMIP',\n",
    "    experiment_id=expts_full,\n",
    "    table_id='Amon',                           \n",
    "    variable_id=['tas', 'pr', 'ua', 'va'],\n",
    "    member_id = 'r1i1p1f1',                     \n",
    ")\n",
    "\n",
    "col_subset = col.search(require_all_on='source_id', **query)\n",
    "#col_subset_var = [col_subset.search(variable_id=var_name) for var_name in query['variable_id']]\n",
    "col_subset.df"
   ]
  },
  {
   "cell_type": "code",
   "execution_count": null,
   "id": "0433a197-1c2a-4445-95f4-ee7256091c89",
   "metadata": {},
   "outputs": [],
   "source": [
    "def func(df):\n",
    "    #print(df)\n",
    "    #print(df.source_id.unique(), \n",
    "    #      df.experiment_id.unique(), \n",
    "    #      df.variable_id.unique(), \n",
    "    #      len(df.variable_id.unique())* len(df.experiment_id.unique()),\n",
    "    #      )\n",
    "    print(df.experiment_id.unique())\n",
    "    for s in df.source_id.unique():\n",
    "        vars = df.loc[df.source_id==s]['variable_id'].unique()\n",
    "        print(s, f'  \\t{vars}    {len(vars)}')\n",
    "    print()\n",
    "    \n",
    "#col_subset_var[3].df.groupby('experiment_id')[['source_id','experiment_id', 'variable_id', 'nominal_resolution']].apply(func)\n",
    "col_subset.df.columns"
   ]
  }
 ],
 "metadata": {
  "kernelspec": {
   "display_name": "Python 3 (ipykernel)",
   "language": "python",
   "name": "python3"
  },
  "language_info": {
   "codemirror_mode": {
    "name": "ipython",
    "version": 3
   },
   "file_extension": ".py",
   "mimetype": "text/x-python",
   "name": "python",
   "nbconvert_exporter": "python",
   "pygments_lexer": "ipython3",
   "version": "3.9.10"
  }
 },
 "nbformat": 4,
 "nbformat_minor": 5
}
